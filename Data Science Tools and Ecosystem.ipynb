{
  "metadata": {
    "kernelspec": {
      "name": "python",
      "display_name": "Python (Pyodide)",
      "language": "python"
    },
    "language_info": {
      "name": ""
    }
  },
  "nbformat_minor": 5,
  "nbformat": 4,
  "cells": [
    {
      "id": "cd637466-cae1-4398-9bfe-cfa324fd892b",
      "cell_type": "markdown",
      "source": "## Author\n\nBASSEL OKASHA ABDULMAJEED ISSA\n",
      "metadata": {}
    }
  ]
}